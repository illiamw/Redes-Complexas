{
 "cells": [
  {
   "cell_type": "code",
   "execution_count": 1,
   "metadata": {
    "colab": {
     "base_uri": "https://localhost:8080/",
     "height": 272
    },
    "colab_type": "code",
    "executionInfo": {
     "elapsed": 10942,
     "status": "ok",
     "timestamp": 1573247758053,
     "user": {
      "displayName": "Bruner Eduardo Augusto Albrecht",
      "photoUrl": "https://lh3.googleusercontent.com/a-/AAuE7mDUbtjfE3o3_32tQnOHRCYsKdkuVuHbZS8uvY3kQw=s64",
      "userId": "14765905680276090186"
     },
     "user_tz": 180
    },
    "id": "NjOp0r71dzhg",
    "outputId": "d99ee955-c49c-4ecf-f008-8dd1354b3b32"
   },
   "outputs": [
    {
     "data": {
      "text/plain": [
       "'2.3'"
      ]
     },
     "execution_count": 1,
     "metadata": {},
     "output_type": "execute_result"
    }
   ],
   "source": [
    "# para rodar no colab\n",
    "#!pip uninstall networkx -y\n",
    "#!pip install networkx==2.3\n",
    "import networkx\n",
    "networkx.__version__"
   ]
  },
  {
   "cell_type": "code",
   "execution_count": 2,
   "metadata": {
    "colab": {
     "base_uri": "https://localhost:8080/",
     "height": 34
    },
    "colab_type": "code",
    "executionInfo": {
     "elapsed": 544,
     "status": "ok",
     "timestamp": 1573250820547,
     "user": {
      "displayName": "Bruner Eduardo Augusto Albrecht",
      "photoUrl": "https://lh3.googleusercontent.com/a-/AAuE7mDUbtjfE3o3_32tQnOHRCYsKdkuVuHbZS8uvY3kQw=s64",
      "userId": "14765905680276090186"
     },
     "user_tz": 180
    },
    "id": "VtEte3DBkEZd",
    "outputId": "156e184f-fa44-4eb8-ee76-2f07d66f5f61"
   },
   "outputs": [],
   "source": [
    "#Adicionando biblioteca \"nx@networkx\" para gerenciamento e produção de graficos \n",
    "import networkx as nx\n",
    "import numpy as np\n",
    "import pandas as pd\n",
    "import seaborn as sns\n",
    "import matplotlib.cm as cm\n",
    "import math as mt\n",
    "import matplotlib.pyplot as plt\n",
    "import matplotlib.colors as colors\n",
    "import random\n",
    "import warnings\n",
    "import networkx.algorithms.community as nx_comm\n",
    "import os as os\n",
    "from scipy.linalg import expm\n",
    "from scipy.stats import moment\n",
    "from scipy.stats import entropy\n",
    "from sklearn.decomposition import PCA\n",
    "from sklearn.preprocessing import StandardScaler\n",
    "from networkx.algorithms import community\n",
    "from networkx.algorithms.community import LFR_benchmark_graph\n",
    "from sklearn.metrics import normalized_mutual_info_score\n",
    "from networkx.algorithms.community import greedy_modularity_communities\n",
    "from networkx.algorithms.community import label_propagation_communities\n",
    "#from community import community_louvain\n",
    "#from google.colab import drive\n",
    "\n",
    "warnings.filterwarnings('ignore')\n",
    "np.random.seed(50)\n",
    "#drive.mount('/content/drive/')\n",
    "#definindo dimesões padrão para plot\n",
    "plt.rcParams['figure.figsize'] = (11,7)\n",
    "\n"
   ]
  },
  {
   "cell_type": "code",
   "execution_count": 3,
   "metadata": {},
   "outputs": [],
   "source": [
    "def plot_grafo(grafo):\n",
    "    plots = nx.spring_layout(grafo)\n",
    "    nx.draw(grafo, with_labels = True, node_size=1, font_size=10, pos = plots)\n",
    "    plt.show(True)"
   ]
  },
  {
   "cell_type": "code",
   "execution_count": 4,
   "metadata": {},
   "outputs": [],
   "source": [
    "def plot_grafo_anel(grafo):\n",
    "    pos = nx.circular_layout(grafo);\n",
    "    plt.figure(figsize=(8,8));\n",
    "    plt.axis(\"off\");\n",
    "    nx.draw_networkx_nodes(grafo, pos, node_size=300, node_color=\"black\");\n",
    "    nx.draw_networkx_edges(grafo, pos, alpha=0.500);\n",
    "    nx.draw_networkx_labels(grafo, pos, font_color=\"white\");\n",
    "    plt.show();"
   ]
  },
  {
   "cell_type": "markdown",
   "metadata": {},
   "source": [
    "## Questão1 "
   ]
  },
  {
   "cell_type": "code",
   "execution_count": 25,
   "metadata": {},
   "outputs": [],
   "source": [
    "# função obtem e armazena o numero de arrstas das redes\n",
    "def number_nodes(G):\n",
    "    #numero de arrestas em nas redes\n",
    "    medida = []\n",
    "    for i in range(30):\n",
    "        medida.append(len(G[i]))\n",
    "    return medida"
   ]
  },
  {
   "cell_type": "code",
   "execution_count": 17,
   "metadata": {},
   "outputs": [],
   "source": [
    "# função obtem e armazena o numero de arrstas das redes\n",
    "def number_edges(G):\n",
    "    #numero de arrestas em nas redes\n",
    "    medida = []\n",
    "    for i in range(30):\n",
    "        medida.append(G[i].number_of_edges())\n",
    "    return medida"
   ]
  },
  {
   "cell_type": "code",
   "execution_count": 6,
   "metadata": {},
   "outputs": [],
   "source": [
    "def average_degre(G):\n",
    "    #Grau médio das redes \n",
    "    medida = []\n",
    "    for i in range(30):\n",
    "        d = dict(G[i].degree()) #discionario de grau por no\n",
    "        d = list(d.values()) #passando para lista apenas com os graus\n",
    "        d = np.mean(d)      #media do grau\n",
    "        medida.append(d)\n",
    "    return medida"
   ]
  },
  {
   "cell_type": "code",
   "execution_count": 7,
   "metadata": {},
   "outputs": [],
   "source": [
    "def second_moment(G):\n",
    "    #Grau médio das redes \n",
    "    \n",
    "    medida = []   \n",
    "    for i in range(30):\n",
    "        d = dict(G[i].degree()) #discionario de grau por no\n",
    "        degree = list(d.values()) #passando para lista apenas com os graus\n",
    "        medida.append(moment(degree, moment=2))\n",
    "    return medida"
   ]
  },
  {
   "cell_type": "code",
   "execution_count": 8,
   "metadata": {},
   "outputs": [],
   "source": [
    "def transitivity(G):\n",
    "    #Grau médio das redes \n",
    "    \n",
    "    medida = []   \n",
    "    for i in range(30):\n",
    "        medida.append(nx.transitivity(G[i]))\n",
    "    return medida"
   ]
  },
  {
   "cell_type": "code",
   "execution_count": 9,
   "metadata": {},
   "outputs": [],
   "source": [
    "def degree_pearson_correlation_coefficient(G):\n",
    "    #Grau médio das redes \n",
    "    \n",
    "    medida = []   \n",
    "    for i in range(30):\n",
    "        medida.append(nx.degree_pearson_correlation_coefficient(G[i]))\n",
    "    return medida"
   ]
  },
  {
   "cell_type": "code",
   "execution_count": 18,
   "metadata": {},
   "outputs": [],
   "source": [
    "def average_clustering(G):\n",
    "    #Grau médio das redes \n",
    "    \n",
    "    medida = []   \n",
    "    for i in range(30):\n",
    "        medida.append(nx.average_clustering(G[i]))\n",
    "    return medida"
   ]
  },
  {
   "cell_type": "code",
   "execution_count": 10,
   "metadata": {},
   "outputs": [],
   "source": [
    "def average_shortest_path_length(G):\n",
    "    #Grau médio das redes \n",
    "    medida = [] \n",
    "    sub_medida = [] \n",
    "    for i in range(30): \n",
    "        print(i)\n",
    "        if(nx.is_connected(G[i])):\n",
    "            medida.append(nx.average_shortest_path_length(G[i]))\n",
    "        else:\n",
    "            for g in nx.connected_component_subgraphs(G[i]):\n",
    "                sub_medida.append(nx.average_shortest_path_length(g))\n",
    "            medida.append(np.mean(sub_medida))\n",
    "    return medida"
   ]
  },
  {
   "cell_type": "code",
   "execution_count": 14,
   "metadata": {},
   "outputs": [
    {
     "name": "stdout",
     "output_type": "stream",
     "text": [
      "0.01001001001001001\n",
      "0.01001001001001001\n",
      "0.01001001001001001\n",
      "0.01001001001001001\n",
      "0.01001001001001001\n",
      "0.01001001001001001\n",
      "0.01001001001001001\n",
      "0.01001001001001001\n",
      "0.01001001001001001\n",
      "0.01001001001001001\n",
      "0.01001001001001001\n",
      "0.01001001001001001\n",
      "0.01001001001001001\n",
      "0.01001001001001001\n",
      "0.01001001001001001\n",
      "0.01001001001001001\n",
      "0.01001001001001001\n",
      "0.01001001001001001\n",
      "0.01001001001001001\n",
      "0.01001001001001001\n",
      "0.01001001001001001\n",
      "0.01001001001001001\n",
      "0.01001001001001001\n",
      "0.01001001001001001\n",
      "0.01001001001001001\n",
      "0.01001001001001001\n",
      "0.01001001001001001\n",
      "0.01001001001001001\n",
      "0.01001001001001001\n",
      "0.01001001001001001\n"
     ]
    }
   ],
   "source": [
    "RE = []\n",
    "for i in range(30):# Gerando rede aleatória Erdos-Renyi com os seguintes parametros\n",
    "    N = 1000 # numero de nos\n",
    "    av_degree = 10 #Grau médio\n",
    "    p = av_degree/(N-1) #probabilidade do grau\n",
    "    print(p)\n",
    "    #função geradora\n",
    "    GER = nx.gnp_random_graph(N, p, seed=None, directed=False)\n",
    "    RE.append(GER)"
   ]
  },
  {
   "cell_type": "code",
   "execution_count": 12,
   "metadata": {
    "scrolled": true
   },
   "outputs": [
    {
     "data": {
      "image/png": "[encoded data removed]",
      "text/plain": [
       "<Figure size 432x288 with 1 Axes>"
      ]
     },
     "metadata": {},
     "output_type": "display_data"
    }
   ],
   "source": [
    "plot_grafo(RE[0])"
   ]
  },
  {
   "cell_type": "code",
   "execution_count": 23,
   "metadata": {},
   "outputs": [],
   "source": [
    "RE_medidas = []"
   ]
  },
  {
   "cell_type": "code",
   "execution_count": 26,
   "metadata": {},
   "outputs": [],
   "source": [
    "RE_nodes = number_nodes(RE)\n",
    "RE_medidas.append(RE_nodes)"
   ]
  },
  {
   "cell_type": "code",
   "execution_count": 27,
   "metadata": {},
   "outputs": [],
   "source": [
    "RE_edges = number_edges(RE)\n",
    "RE_medidas.append(RE_edges)"
   ]
  },
  {
   "cell_type": "code",
   "execution_count": 28,
   "metadata": {},
   "outputs": [],
   "source": [
    "RE_average_degree = average_degre(RE)\n",
    "RE_medidas.append(RE_average_degree)"
   ]
  },
  {
   "cell_type": "code",
   "execution_count": 29,
   "metadata": {},
   "outputs": [],
   "source": [
    "RE_second_moment = second_moment(RE)\n",
    "RE_medidas.append(RE_second_moment)"
   ]
  },
  {
   "cell_type": "code",
   "execution_count": 30,
   "metadata": {},
   "outputs": [
    {
     "name": "stdout",
     "output_type": "stream",
     "text": [
      "0\n",
      "1\n",
      "2\n",
      "3\n",
      "4\n",
      "5\n",
      "6\n",
      "7\n",
      "8\n",
      "9\n",
      "10\n",
      "11\n",
      "12\n",
      "13\n",
      "14\n",
      "15\n",
      "16\n",
      "17\n",
      "18\n",
      "19\n",
      "20\n",
      "21\n",
      "22\n",
      "23\n",
      "24\n",
      "25\n",
      "26\n",
      "27\n",
      "28\n",
      "29\n"
     ]
    }
   ],
   "source": [
    "RE_average_shortest_path_length= average_shortest_path_length(RE)\n",
    "RE_medidas.append(RE_average_shortest_path_length)"
   ]
  },
  {
   "cell_type": "code",
   "execution_count": 31,
   "metadata": {},
   "outputs": [],
   "source": [
    "RE_transitivity = transitivity(RE)\n",
    "RE_medidas.append(RE_transitivity)"
   ]
  },
  {
   "cell_type": "code",
   "execution_count": 32,
   "metadata": {},
   "outputs": [],
   "source": [
    "RE_average_clustering = average_clustering(RE)\n",
    "RE_medidas.append(RE_average_clustering)"
   ]
  },
  {
   "cell_type": "code",
   "execution_count": 33,
   "metadata": {},
   "outputs": [],
   "source": [
    "RE_degree_pearson_correlation_coefficient = degree_pearson_correlation_coefficient(RE)\n",
    "RE_medidas.append(RE_degree_pearson_correlation_coefficient)"
   ]
  },
  {
   "cell_type": "code",
   "execution_count": null,
   "metadata": {},
   "outputs": [],
   "source": [
    "RW = []\n",
    "for i in range(30):# Gerando rede aleatória Erdos-Renyi com os seguintes parametros\n",
    "    N = 1000# numero de nós\n",
    "    av_degree = 10 # grau médio\n",
    "    k = int(av_degree)# Cada nó está conectado aos k vizinhos mais próximos na topologia em anel\n",
    "    p = 0.1 #probabilidade de religação\n",
    "    GWS = nx.watts_strogatz_graph(N, k, p, seed=None)\n",
    "    RW.append(GWS)"
   ]
  },
  {
   "cell_type": "code",
   "execution_count": null,
   "metadata": {},
   "outputs": [],
   "source": [
    "plot_grafo_anel(RW[0])"
   ]
  },
  {
   "cell_type": "code",
   "execution_count": null,
   "metadata": {},
   "outputs": [],
   "source": [
    "RW_medidas = []"
   ]
  },
  {
   "cell_type": "code",
   "execution_count": null,
   "metadata": {},
   "outputs": [],
   "source": [
    "RW_nodes = number_nodes(RW)\n",
    "RW_medidas.append(RW_nodes)"
   ]
  },
  {
   "cell_type": "code",
   "execution_count": null,
   "metadata": {},
   "outputs": [],
   "source": [
    "RW_edges = number_edges(RW)\n",
    "RW_medidas.append(RW_edges)"
   ]
  },
  {
   "cell_type": "code",
   "execution_count": null,
   "metadata": {},
   "outputs": [],
   "source": [
    "RW_average_degree = average_degre(RW)\n",
    "RW_medidas.append(RW_average_degree)"
   ]
  },
  {
   "cell_type": "code",
   "execution_count": null,
   "metadata": {},
   "outputs": [],
   "source": [
    "RW_second_moment = second_moment(RW)\n",
    "RW_medidas.append(RW_second_moment)"
   ]
  },
  {
   "cell_type": "code",
   "execution_count": null,
   "metadata": {},
   "outputs": [],
   "source": [
    "RW_average_shortest_path_length= average_shortest_path_length(RW)\n",
    "RW_medidas.append(RW_average_shortest_path_length)"
   ]
  },
  {
   "cell_type": "code",
   "execution_count": null,
   "metadata": {},
   "outputs": [],
   "source": [
    "RW_transitivity = transitivity(RW)\n",
    "RW_medidas.append(RW_transitivity)"
   ]
  },
  {
   "cell_type": "code",
   "execution_count": null,
   "metadata": {},
   "outputs": [],
   "source": [
    "RW_average_clustering = average_clustering(RE)\n",
    "RW_medidas.append(RW_average_clustering)"
   ]
  },
  {
   "cell_type": "code",
   "execution_count": null,
   "metadata": {},
   "outputs": [],
   "source": [
    "RW_degree_pearson_correlation_coefficient = degree_pearson_correlation_coefficient(RW)\n",
    "RW_medidas.append(RW_degree_pearson_correlation_coefficient)"
   ]
  },
  {
   "cell_type": "code",
   "execution_count": null,
   "metadata": {},
   "outputs": [],
   "source": [
    "# Gerando rede aleatória  Barabási-Albert  com os seguintes parametros\n",
    "RA = []\n",
    "\n",
    "for i in range(30):\n",
    "    N = 1000 # numero de nos\n",
    "    av_degree = 10#Grau médio\n",
    "    m = int(av_degree/2)#probabilidade do grau\n",
    "    GBA = nx.barabasi_albert_graph(N, m)\n",
    "    RA.append(GBA)"
   ]
  },
  {
   "cell_type": "code",
   "execution_count": null,
   "metadata": {},
   "outputs": [],
   "source": [
    "plot_grafo(RA[0])"
   ]
  },
  {
   "cell_type": "code",
   "execution_count": null,
   "metadata": {},
   "outputs": [],
   "source": [
    "RA_medidas = []"
   ]
  },
  {
   "cell_type": "code",
   "execution_count": null,
   "metadata": {},
   "outputs": [],
   "source": [
    "RA_nodes = number_nodes(RA)\n",
    "RA_medidas.append(RA_nodes)"
   ]
  },
  {
   "cell_type": "code",
   "execution_count": null,
   "metadata": {},
   "outputs": [],
   "source": [
    "RA_edges = number_edges(RA)\n",
    "RA_medidas.append(RA_edges)"
   ]
  },
  {
   "cell_type": "code",
   "execution_count": null,
   "metadata": {},
   "outputs": [],
   "source": [
    "RA_average_degree = average_degre(RA)\n",
    "RA_medidas.append(RA_average_degree)"
   ]
  },
  {
   "cell_type": "code",
   "execution_count": null,
   "metadata": {},
   "outputs": [],
   "source": [
    "RA_second_moment = second_moment(RA)\n",
    "RA_medidas.append(RA_second_moment)"
   ]
  },
  {
   "cell_type": "code",
   "execution_count": null,
   "metadata": {},
   "outputs": [],
   "source": [
    "RA_average_shortest_path_length= average_shortest_path_length(RA)\n",
    "RA_medidas.append(RA_average_shortest_path_length)"
   ]
  },
  {
   "cell_type": "code",
   "execution_count": null,
   "metadata": {},
   "outputs": [],
   "source": [
    "RA_transitivity = transitivity(RA)\n",
    "RA_medidas.append(RA_transitivity)"
   ]
  },
  {
   "cell_type": "code",
   "execution_count": null,
   "metadata": {},
   "outputs": [],
   "source": [
    "RA_average_clustering = average_clustering(RE)\n",
    "RA_medidas.append(RA_average_clustering)"
   ]
  },
  {
   "cell_type": "code",
   "execution_count": null,
   "metadata": {},
   "outputs": [],
   "source": [
    "RA_degree_pearson_correlation_coefficient = degree_pearson_correlation_coefficient(RA)\n",
    "RA_medidas.append(RA_degree_pearson_correlation_coefficient)"
   ]
  },
  {
   "cell_type": "code",
   "execution_count": null,
   "metadata": {},
   "outputs": [],
   "source": []
  },
  {
   "cell_type": "code",
   "execution_count": null,
   "metadata": {},
   "outputs": [],
   "source": []
  },
  {
   "cell_type": "code",
   "execution_count": null,
   "metadata": {},
   "outputs": [],
   "source": []
  }
 ],
 "metadata": {
  "kernelspec": {
   "display_name": "Python 3",
   "language": "python",
   "name": "python3"
  },
  "language_info": {
   "codemirror_mode": {
    "name": "ipython",
    "version": 3
   },
   "file_extension": ".py",
   "mimetype": "text/x-python",
   "name": "python",
   "nbconvert_exporter": "python",
   "pygments_lexer": "ipython3",
   "version": "3.7.4"
  }
 },
 "nbformat": 4,
 "nbformat_minor": 2
}
