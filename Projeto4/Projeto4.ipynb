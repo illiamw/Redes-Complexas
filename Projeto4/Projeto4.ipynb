{
 "cells": [
  {
   "cell_type": "markdown",
   "metadata": {},
   "source": [
    "# O Q está FALTANDO:\n",
    "\n",
    "**Questão 1**\n",
    ">arruma o problema da um com os nodes que são dict\n",
    "\n",
    ">Ver as tais 10 simulações:\n",
    "\n",
    "**Questão 2**\n",
    ">Copiar a questão 1, e arrumar a leitura dos dados \n",
    "\n",
    "> Usar Epidemics\n",
    "\n",
    "**Questão 3**\n",
    ">Coipar o fim da questão 1 \n",
    "\n",
    "> Usar o infected nodes "
   ]
  },
  {
   "cell_type": "code",
   "execution_count": 2,
   "metadata": {},
   "outputs": [],
   "source": [
    "# para rodar no colab\n",
    "#!pip uninstall networkx -y\n",
    "#!pip install networkx==2.3\n",
    "import networkx\n",
    "networkx.__version__\n",
    "\n",
    "#Adicionando biblioteca \"nx@networkx\" para gerenciamento e produção de graficos \n",
    "import networkx as nx\n",
    "import numpy as np\n",
    "import pandas as pd\n",
    "import seaborn as sns\n",
    "import matplotlib.cm as cm\n",
    "import math as mt\n",
    "import matplotlib.pyplot as plt\n",
    "import matplotlib.colors as colors\n",
    "import random\n",
    "import warnings\n",
    "import networkx.algorithms.community as nx_comm\n",
    "import os as os\n",
    "\n",
    "from scipy.linalg import expm\n",
    "from scipy.stats import moment\n",
    "from scipy.stats import entropy\n",
    "from sklearn.decomposition import PCA\n",
    "from sklearn.preprocessing import StandardScaler\n",
    "from networkx.algorithms import community\n",
    "from networkx.algorithms.community import LFR_benchmark_graph\n",
    "from sklearn.metrics import normalized_mutual_info_score\n",
    "from networkx.algorithms.community import greedy_modularity_communities\n",
    "from networkx.algorithms.community import label_propagation_communities\n",
    "#from community import community_louvain\n",
    "#from google.colab import drive\n",
    "\n",
    "warnings.filterwarnings('ignore')\n",
    "#drive.mount('/content/drive/')\n",
    "#definindo dimesões padrão para plot\n",
    "plt.rcParams['figure.figsize'] = (11,7)\n",
    "\n",
    "#Funcoes mais usadas no projeto:\n",
    "\n",
    "def plot_grafo(grafo):\n",
    "    plots = nx.spring_layout(grafo)\n",
    "    nx.draw(grafo, with_labels = True, node_size=1, font_size=10, pos = plots)\n",
    "    plt.show(True)\n",
    "        \n",
    "def degree_distribution(GER):\n",
    "    vk = dict(GER.degree())\n",
    "    vk = list(vk.values()) # we get only the degree values\n",
    "    maxk = np.max(vk)\n",
    "    mink = np.min(min)\n",
    "    kvalues= np.arange(0,maxk+1) # possible values of k\n",
    "    Pk = np.zeros(maxk+1) # P(k)\n",
    "    for k in vk:\n",
    "        Pk[k] = Pk[k] + 1\n",
    "    Pk = Pk/sum(Pk) # the sum of the elements of P(k) must to be equal to one\n",
    "    return kvalues,Pk\n",
    "\n",
    "def momment_of_degree_distribution(G,m):\n",
    "    k,Pk = degree_distribution(G)\n",
    "    M = sum((k**m)*Pk)\n",
    "    return M\n",
    "\n",
    "def shannon_entropy(G):\n",
    "    k,Pk = degree_distribution(G)\n",
    "    H = 0\n",
    "    for p in Pk:\n",
    "        if(p > 0):\n",
    "            H = H - p*mt.log(p, 2)\n",
    "    return H\n",
    "\n"
   ]
  },
  {
   "cell_type": "markdown",
   "metadata": {},
   "source": [
    "# **Questão 1**"
   ]
  },
  {
   "cell_type": "code",
   "execution_count": 3,
   "metadata": {},
   "outputs": [],
   "source": [
    "#biblieotecas para  a resposta da questão:\n",
    "np.random.seed(101)\n",
    "from random import choice\n",
    "\n",
    "# The parameters are defined as:\n",
    "N = 500 #number of nodes\n",
    "av_degree = 8 # average degree\n",
    "p = float(av_degree)/float(N) #probability of connection in the ER model\n",
    "m = int(av_degree/2) # number of added nodes in the BA model\n",
    "kappa = av_degree # number of neighbors in the WS model\n",
    "\n",
    "# This function is used to find the most connected node\n",
    "def most_connected(G): \n",
    "    maxk = 0\n",
    "    node = 0\n",
    "    for i in G.nodes():\n",
    "        if(G.degree(i) >= maxk):\n",
    "            maxk = G.degree(i)\n",
    "            node = i\n",
    "    return node \n",
    "\n",
    "\n",
    "def most_central(G): # This function is used to find the most connected node \n",
    "    #in the center\n",
    "    maxc = 0\n",
    "    node = 0\n",
    "    G = nx.convert_node_labels_to_integers(G, first_label=0)\n",
    "    B = nx.betweenness_centrality(G)\n",
    "    for i in G.nodes():\n",
    "        if(B[i] >= maxc):\n",
    "            maxc = B[i]\n",
    "            node = i\n",
    "    return node \n",
    "\n",
    "#Definicao da funcao de falhas:\n",
    "def failures(H):\n",
    "    G = H.copy()\n",
    "    N0 = len(G)\n",
    "    vn = []\n",
    "    S = []\n",
    "    n = 0 #number of nodes removed\n",
    "    while(len(G.nodes()) > int(0.01*N0)):\n",
    "        #print('Removing... n = ', n)\n",
    "        #print(G.nodes)\n",
    "        node = random.choice(G.nodes()) #select the node on the largest component\n",
    "        #print('selected to removed:', node)\n",
    "        G.remove_node(node) \n",
    "        Gcc=sorted(nx.connected_component_subgraphs(G), key = len, reverse=True)\n",
    "        Glc=Gcc[0] \n",
    "        S.append(len(Glc)/N0) #store the size of the largest component\n",
    "        n = n + 1\n",
    "        vn.append(n/N0)\n",
    "    return S, vn\n",
    "\n",
    "#Definicao da funcao de ataque:\n",
    "def attacks(H):\n",
    "    G = H.copy()\n",
    "    from random import choice\n",
    "    N0 = len(G)\n",
    "    vn = []\n",
    "    S = []\n",
    "    n = 0 #number of nodes removed\n",
    "    while(len(G.nodes()) > int(0.01*N0)):\n",
    "        #print('Removing... n = ', n)\n",
    "        #print(G.nodes)\n",
    "        node = most_connected(G) #select the most connected node on the largest component            \n",
    "        #print('selected to removed:', node)\n",
    "        G.remove_node(node) \n",
    "        Gcc=sorted(nx.connected_component_subgraphs(G), key = len, reverse=True)\n",
    "        Glc=Gcc[0] \n",
    "        S.append(len(Glc)/N0) #store the size of the largest component\n",
    "        n = n + 1\n",
    "        vn.append(n/N0)\n",
    "\n",
    "def fcritical(G):\n",
    "    def momment_of_degree_distribution2(G,m):\n",
    "        M = 0\n",
    "        N = len(G)\n",
    "        for i in G.nodes():\n",
    "            M = M + G.degree(i)**m\n",
    "        M = M/N\n",
    "        return M\n",
    "    f = 1 - 1/(momment_of_degree_distribution2(G,2)/momment_of_degree_distribution2(G,1) - 1)\n",
    "    return f      "
   ]
  },
  {
   "cell_type": "markdown",
   "metadata": {},
   "source": [
    "Simulate **failures** in the following networks, obtaining the size of the largest component versus the fraction of removed nodes:"
   ]
  },
  {
   "cell_type": "markdown",
   "metadata": {},
   "source": [
    "**Erdös-Rényi networks**"
   ]
  },
  {
   "cell_type": "code",
   "execution_count": 4,
   "metadata": {},
   "outputs": [
    {
     "name": "stdout",
     "output_type": "stream",
     "text": [
      "Number of nodes: 500\n",
      "Number of edges: 1930\n"
     ]
    },
    {
     "ename": "NameError",
     "evalue": "name 'GBA' is not defined",
     "output_type": "error",
     "traceback": [
      "\u001b[0;31m---------------------------------------------------------------------------\u001b[0m",
      "\u001b[0;31mNameError\u001b[0m                                 Traceback (most recent call last)",
      "\u001b[0;32m<ipython-input-4-b3be76278bb1>\u001b[0m in \u001b[0;36m<module>\u001b[0;34m\u001b[0m\n\u001b[1;32m     10\u001b[0m \u001b[0;34m\u001b[0m\u001b[0m\n\u001b[1;32m     11\u001b[0m \u001b[0;31m# Plotando o grafo:\u001b[0m\u001b[0;34m\u001b[0m\u001b[0;34m\u001b[0m\u001b[0;34m\u001b[0m\u001b[0m\n\u001b[0;32m---> 12\u001b[0;31m \u001b[0mpos\u001b[0m \u001b[0;34m=\u001b[0m \u001b[0mnx\u001b[0m\u001b[0;34m.\u001b[0m\u001b[0mfruchterman_reingold_layout\u001b[0m\u001b[0;34m(\u001b[0m\u001b[0mGBA\u001b[0m\u001b[0;34m)\u001b[0m\u001b[0;34m;\u001b[0m\u001b[0;34m\u001b[0m\u001b[0;34m\u001b[0m\u001b[0m\n\u001b[0m\u001b[1;32m     13\u001b[0m \u001b[0mplt\u001b[0m\u001b[0;34m.\u001b[0m\u001b[0mfigure\u001b[0m\u001b[0;34m(\u001b[0m\u001b[0mfigsize\u001b[0m\u001b[0;34m=\u001b[0m\u001b[0;34m(\u001b[0m\u001b[0;36m8\u001b[0m\u001b[0;34m,\u001b[0m\u001b[0;36m8\u001b[0m\u001b[0;34m)\u001b[0m\u001b[0;34m)\u001b[0m\u001b[0;34m;\u001b[0m\u001b[0;34m\u001b[0m\u001b[0;34m\u001b[0m\u001b[0m\n\u001b[1;32m     14\u001b[0m \u001b[0mplt\u001b[0m\u001b[0;34m.\u001b[0m\u001b[0maxis\u001b[0m\u001b[0;34m(\u001b[0m\u001b[0;34m\"off\"\u001b[0m\u001b[0;34m)\u001b[0m\u001b[0;34m;\u001b[0m\u001b[0;34m\u001b[0m\u001b[0;34m\u001b[0m\u001b[0m\n",
      "\u001b[0;31mNameError\u001b[0m: name 'GBA' is not defined"
     ]
    }
   ],
   "source": [
    "#N = 500\n",
    "#av_degree = 2\n",
    "#p = av_degree/(N-1)\n",
    "GER = nx.gnp_random_graph(N, p, seed=None, directed=False)\n",
    "\n",
    "N = len(GER)\n",
    "M = GER.number_of_edges()\n",
    "print('Number of nodes:', N)\n",
    "print('Number of edges:', M)\n",
    "\n",
    "# Plotando o grafo:\n",
    "pos = nx.fruchterman_reingold_layout(GBA);\n",
    "plt.figure(figsize=(8,8));\n",
    "plt.axis(\"off\");\n",
    "nx.draw_networkx_nodes(GBA, pos, node_size=300, node_color=\"black\");\n",
    "nx.draw_networkx_edges(GBA, pos, alpha=0.500);\n",
    "nx.draw_networkx_labels(GBA, pos, font_color=\"white\");\n",
    "plt.show();"
   ]
  },
  {
   "cell_type": "code",
   "execution_count": null,
   "metadata": {},
   "outputs": [],
   "source": [
    "fc = fcritical(GER)\n",
    "\n",
    "Sf, vnf = failures(GER)\n",
    "\n",
    "plt.figure()\n",
    "plt.plot(vnf,Sf,'-or', label='Failures')\n",
    "plt.xlabel(\"f\", fontsize=20)\n",
    "plt.ylabel(\"S\", fontsize=20)\n",
    "plt.axvline(x=fc, color = 'g', label='fc failures')\n",
    "plt.legend()\n",
    "plt.grid(True)\n",
    "plt.show(); "
   ]
  },
  {
   "cell_type": "markdown",
   "metadata": {},
   "source": [
    "**Barabási-Albert scale free networks**"
   ]
  },
  {
   "cell_type": "code",
   "execution_count": null,
   "metadata": {},
   "outputs": [],
   "source": [
    "## Criando o graph:\n",
    "GBA = nx.barabasi_albert_graph(N, m)\n",
    "N = len(GBA)\n",
    "M = GBA.number_of_edges()\n",
    "\n",
    "# Visuaçizando o numero de nos, arestas e o grau medio:\n",
    "print('Number of nodes:', N)\n",
    "print('Number of edges:', M)\n",
    "print('Average degre:', 2*M/N)\n",
    "\n",
    "# Plotando o grafo:\n",
    "pos = nx.fruchterman_reingold_layout(GBA);\n",
    "plt.figure(figsize=(8,8));\n",
    "plt.axis(\"off\");\n",
    "nx.draw_networkx_nodes(GBA, pos, node_size=300, node_color=\"black\");\n",
    "nx.draw_networkx_edges(GBA, pos, alpha=0.500);\n",
    "nx.draw_networkx_labels(GBA, pos, font_color=\"white\");\n",
    "plt.show();"
   ]
  },
  {
   "cell_type": "code",
   "execution_count": null,
   "metadata": {},
   "outputs": [],
   "source": [
    "#definindo A probabilidade crítica de reduzir o \n",
    "#tamanho do maior componente para zero \n",
    "fc = fcritical(GBA)\n",
    "# armazena o tamanho do maior componente,Sf, \n",
    "#e vnf é a fração de nós removidos\n",
    "Sf, vnf = failures(GBA)\n",
    "\n",
    "plt.figure()\n",
    "plt.plot(vnf,Sf,'-or', label='Failures')\n",
    "plt.xlabel(\"f\", fontsize=20)\n",
    "plt.ylabel(\"S\", fontsize=20)\n",
    "plt.axvline(x=fc, color = 'g', label='fc failures')\n",
    "plt.legend()\n",
    "plt.grid(True)\n",
    "plt.show(); "
   ]
  },
  {
   "cell_type": "markdown",
   "metadata": {},
   "source": [
    "**Small-world networks for:**"
   ]
  },
  {
   "cell_type": "markdown",
   "metadata": {},
   "source": [
    "> p=0.001 "
   ]
  },
  {
   "cell_type": "code",
   "execution_count": null,
   "metadata": {},
   "outputs": [],
   "source": [
    "## Criando o graph:\n",
    "p = 0.001 #probability of rewiring\n",
    "G = nx.watts_strogatz_graph(N, kappa, p, seed=None)\n",
    "N = len(G)\n",
    "M = G.number_of_edges()\n",
    "\n",
    "# Visuaçizando o numero de nos, arestas e o grau medio:\n",
    "print('Number of nodes:', N)\n",
    "print('Number of edges:', M)\n",
    "print('Average degre:', 2*M/N)\n",
    "\n",
    "# Plotando o grafo:\n",
    "pos = nx.fruchterman_reingold_layout(G);\n",
    "plt.figure(figsize=(8,8));\n",
    "plt.axis(\"off\");\n",
    "nx.draw_networkx_nodes(G, pos, node_size=300, node_color=\"black\");\n",
    "nx.draw_networkx_edges(G, pos, alpha=0.500);\n",
    "nx.draw_networkx_labels(G, pos, font_color=\"white\");\n",
    "plt.show();"
   ]
  },
  {
   "cell_type": "code",
   "execution_count": 5,
   "metadata": {},
   "outputs": [
    {
     "ename": "NameError",
     "evalue": "name 'G' is not defined",
     "output_type": "error",
     "traceback": [
      "\u001b[0;31m---------------------------------------------------------------------------\u001b[0m",
      "\u001b[0;31mNameError\u001b[0m                                 Traceback (most recent call last)",
      "\u001b[0;32m<ipython-input-5-560033cd9715>\u001b[0m in \u001b[0;36m<module>\u001b[0;34m\u001b[0m\n\u001b[1;32m      1\u001b[0m \u001b[0;31m#definindo A probabilidade crítica de reduzir o\u001b[0m\u001b[0;34m\u001b[0m\u001b[0;34m\u001b[0m\u001b[0;34m\u001b[0m\u001b[0m\n\u001b[1;32m      2\u001b[0m \u001b[0;31m#tamanho do maior componente para zero\u001b[0m\u001b[0;34m\u001b[0m\u001b[0;34m\u001b[0m\u001b[0;34m\u001b[0m\u001b[0m\n\u001b[0;32m----> 3\u001b[0;31m \u001b[0mfc\u001b[0m \u001b[0;34m=\u001b[0m \u001b[0mfcritical\u001b[0m\u001b[0;34m(\u001b[0m\u001b[0mG\u001b[0m\u001b[0;34m)\u001b[0m\u001b[0;34m\u001b[0m\u001b[0;34m\u001b[0m\u001b[0m\n\u001b[0m\u001b[1;32m      4\u001b[0m \u001b[0;31m# armazena o tamanho do maior componente,Sf,\u001b[0m\u001b[0;34m\u001b[0m\u001b[0;34m\u001b[0m\u001b[0;34m\u001b[0m\u001b[0m\n\u001b[1;32m      5\u001b[0m \u001b[0;31m#e vnf é a fração de nós removidos\u001b[0m\u001b[0;34m\u001b[0m\u001b[0;34m\u001b[0m\u001b[0;34m\u001b[0m\u001b[0m\n",
      "\u001b[0;31mNameError\u001b[0m: name 'G' is not defined"
     ]
    }
   ],
   "source": [
    "#definindo A probabilidade crítica de reduzir o \n",
    "#tamanho do maior componente para zero \n",
    "fc = fcritical(G)\n",
    "# armazena o tamanho do maior componente,Sf, \n",
    "#e vnf é a fração de nós removidos\n",
    "Sf, vnf = failures(G)\n",
    "\n",
    "plt.figure()\n",
    "plt.plot(vnf,Sf,'-or', label='Failures')\n",
    "plt.xlabel(\"f\", fontsize=20)\n",
    "plt.ylabel(\"S\", fontsize=20)\n",
    "plt.axvline(x=fc, color = 'g', label='fc failures')\n",
    "plt.legend()\n",
    "plt.grid(True)\n",
    "plt.show(); "
   ]
  },
  {
   "cell_type": "markdown",
   "metadata": {},
   "source": [
    "> p=0.01"
   ]
  },
  {
   "cell_type": "code",
   "execution_count": 6,
   "metadata": {},
   "outputs": [
    {
     "name": "stdout",
     "output_type": "stream",
     "text": [
      "Number of nodes: 500\n",
      "Number of edges: 2000\n",
      "Average degre: 8.0\n"
     ]
    },
    {
     "data": {
      "image/png": "[encoded data removed]",
      "text/plain": [
       "<Figure size 576x576 with 1 Axes>"
      ]
     },
     "metadata": {},
     "output_type": "display_data"
    }
   ],
   "source": [
    "## Criando o graph:\n",
    "p = 0.01 #probability of rewiring\n",
    "G = nx.watts_strogatz_graph(N, kappa, p, seed=None)\n",
    "N = len(G)\n",
    "M = G.number_of_edges()\n",
    "\n",
    "# Visuaçizando o numero de nos, arestas e o grau medio:\n",
    "print('Number of nodes:', N)\n",
    "print('Number of edges:', M)\n",
    "print('Average degre:', 2*M/N)\n",
    "\n",
    "# Plotando o grafo:\n",
    "pos = nx.fruchterman_reingold_layout(G);\n",
    "plt.figure(figsize=(8,8));\n",
    "plt.axis(\"off\");\n",
    "nx.draw_networkx_nodes(G, pos, node_size=300, node_color=\"black\");\n",
    "nx.draw_networkx_edges(G, pos, alpha=0.500);\n",
    "nx.draw_networkx_labels(G, pos, font_color=\"white\");\n",
    "plt.show();"
   ]
  },
  {
   "cell_type": "code",
   "execution_count": 7,
   "metadata": {},
   "outputs": [
    {
     "ename": "TypeError",
     "evalue": "unhashable type: 'dict'",
     "output_type": "error",
     "traceback": [
      "\u001b[0;31m---------------------------------------------------------------------------\u001b[0m",
      "\u001b[0;31mTypeError\u001b[0m                                 Traceback (most recent call last)",
      "\u001b[0;32m<ipython-input-7-560033cd9715>\u001b[0m in \u001b[0;36m<module>\u001b[0;34m\u001b[0m\n\u001b[1;32m      4\u001b[0m \u001b[0;31m# armazena o tamanho do maior componente,Sf,\u001b[0m\u001b[0;34m\u001b[0m\u001b[0;34m\u001b[0m\u001b[0;34m\u001b[0m\u001b[0m\n\u001b[1;32m      5\u001b[0m \u001b[0;31m#e vnf é a fração de nós removidos\u001b[0m\u001b[0;34m\u001b[0m\u001b[0;34m\u001b[0m\u001b[0;34m\u001b[0m\u001b[0m\n\u001b[0;32m----> 6\u001b[0;31m \u001b[0mSf\u001b[0m\u001b[0;34m,\u001b[0m \u001b[0mvnf\u001b[0m \u001b[0;34m=\u001b[0m \u001b[0mfailures\u001b[0m\u001b[0;34m(\u001b[0m\u001b[0mG\u001b[0m\u001b[0;34m)\u001b[0m\u001b[0;34m\u001b[0m\u001b[0;34m\u001b[0m\u001b[0m\n\u001b[0m\u001b[1;32m      7\u001b[0m \u001b[0;34m\u001b[0m\u001b[0m\n\u001b[1;32m      8\u001b[0m \u001b[0mplt\u001b[0m\u001b[0;34m.\u001b[0m\u001b[0mfigure\u001b[0m\u001b[0;34m(\u001b[0m\u001b[0;34m)\u001b[0m\u001b[0;34m\u001b[0m\u001b[0;34m\u001b[0m\u001b[0m\n",
      "\u001b[0;32m<ipython-input-3-df95bd8b0467>\u001b[0m in \u001b[0;36mfailures\u001b[0;34m(H)\u001b[0m\n\u001b[1;32m     45\u001b[0m         \u001b[0mnode\u001b[0m \u001b[0;34m=\u001b[0m \u001b[0mrandom\u001b[0m\u001b[0;34m.\u001b[0m\u001b[0mchoice\u001b[0m\u001b[0;34m(\u001b[0m\u001b[0mG\u001b[0m\u001b[0;34m.\u001b[0m\u001b[0mnodes\u001b[0m\u001b[0;34m(\u001b[0m\u001b[0;34m)\u001b[0m\u001b[0;34m)\u001b[0m \u001b[0;31m#select the node on the largest component\u001b[0m\u001b[0;34m\u001b[0m\u001b[0;34m\u001b[0m\u001b[0m\n\u001b[1;32m     46\u001b[0m         \u001b[0;31m#print('selected to removed:', node)\u001b[0m\u001b[0;34m\u001b[0m\u001b[0;34m\u001b[0m\u001b[0;34m\u001b[0m\u001b[0m\n\u001b[0;32m---> 47\u001b[0;31m         \u001b[0mG\u001b[0m\u001b[0;34m.\u001b[0m\u001b[0mremove_node\u001b[0m\u001b[0;34m(\u001b[0m\u001b[0mnode\u001b[0m\u001b[0;34m)\u001b[0m\u001b[0;34m\u001b[0m\u001b[0;34m\u001b[0m\u001b[0m\n\u001b[0m\u001b[1;32m     48\u001b[0m         \u001b[0mGcc\u001b[0m\u001b[0;34m=\u001b[0m\u001b[0msorted\u001b[0m\u001b[0;34m(\u001b[0m\u001b[0mnx\u001b[0m\u001b[0;34m.\u001b[0m\u001b[0mconnected_component_subgraphs\u001b[0m\u001b[0;34m(\u001b[0m\u001b[0mG\u001b[0m\u001b[0;34m)\u001b[0m\u001b[0;34m,\u001b[0m \u001b[0mkey\u001b[0m \u001b[0;34m=\u001b[0m \u001b[0mlen\u001b[0m\u001b[0;34m,\u001b[0m \u001b[0mreverse\u001b[0m\u001b[0;34m=\u001b[0m\u001b[0;32mTrue\u001b[0m\u001b[0;34m)\u001b[0m\u001b[0;34m\u001b[0m\u001b[0;34m\u001b[0m\u001b[0m\n\u001b[1;32m     49\u001b[0m         \u001b[0mGlc\u001b[0m\u001b[0;34m=\u001b[0m\u001b[0mGcc\u001b[0m\u001b[0;34m[\u001b[0m\u001b[0;36m0\u001b[0m\u001b[0;34m]\u001b[0m\u001b[0;34m\u001b[0m\u001b[0;34m\u001b[0m\u001b[0m\n",
      "\u001b[0;32m~/anaconda3/lib/python3.7/site-packages/networkx/classes/graph.py\u001b[0m in \u001b[0;36mremove_node\u001b[0;34m(self, n)\u001b[0m\n\u001b[1;32m    618\u001b[0m         \u001b[0madj\u001b[0m \u001b[0;34m=\u001b[0m \u001b[0mself\u001b[0m\u001b[0;34m.\u001b[0m\u001b[0m_adj\u001b[0m\u001b[0;34m\u001b[0m\u001b[0;34m\u001b[0m\u001b[0m\n\u001b[1;32m    619\u001b[0m         \u001b[0;32mtry\u001b[0m\u001b[0;34m:\u001b[0m\u001b[0;34m\u001b[0m\u001b[0;34m\u001b[0m\u001b[0m\n\u001b[0;32m--> 620\u001b[0;31m             \u001b[0mnbrs\u001b[0m \u001b[0;34m=\u001b[0m \u001b[0mlist\u001b[0m\u001b[0;34m(\u001b[0m\u001b[0madj\u001b[0m\u001b[0;34m[\u001b[0m\u001b[0mn\u001b[0m\u001b[0;34m]\u001b[0m\u001b[0;34m)\u001b[0m  \u001b[0;31m# list handles self-loops (allows mutation)\u001b[0m\u001b[0;34m\u001b[0m\u001b[0;34m\u001b[0m\u001b[0m\n\u001b[0m\u001b[1;32m    621\u001b[0m             \u001b[0;32mdel\u001b[0m \u001b[0mself\u001b[0m\u001b[0;34m.\u001b[0m\u001b[0m_node\u001b[0m\u001b[0;34m[\u001b[0m\u001b[0mn\u001b[0m\u001b[0;34m]\u001b[0m\u001b[0;34m\u001b[0m\u001b[0;34m\u001b[0m\u001b[0m\n\u001b[1;32m    622\u001b[0m         \u001b[0;32mexcept\u001b[0m \u001b[0mKeyError\u001b[0m\u001b[0;34m:\u001b[0m  \u001b[0;31m# NetworkXError if n not in self\u001b[0m\u001b[0;34m\u001b[0m\u001b[0;34m\u001b[0m\u001b[0m\n",
      "\u001b[0;31mTypeError\u001b[0m: unhashable type: 'dict'"
     ]
    }
   ],
   "source": [
    "#definindo A probabilidade crítica de reduzir o \n",
    "#tamanho do maior componente para zero \n",
    "fc = fcritical(G)\n",
    "# armazena o tamanho do maior componente,Sf, \n",
    "#e vnf é a fração de nós removidos\n",
    "Sf, vnf = failures(G)\n",
    "\n",
    "plt.figure()\n",
    "plt.plot(vnf,Sf,'-or', label='Failures')\n",
    "plt.xlabel(\"f\", fontsize=20)\n",
    "plt.ylabel(\"S\", fontsize=20)\n",
    "plt.axvline(x=fc, color = 'g', label='fc failures')\n",
    "plt.legend()\n",
    "plt.grid(True)\n",
    "plt.show(); "
   ]
  },
  {
   "cell_type": "markdown",
   "metadata": {},
   "source": [
    "> p=0.1."
   ]
  },
  {
   "cell_type": "code",
   "execution_count": null,
   "metadata": {},
   "outputs": [],
   "source": [
    "## Criando o graph:\n",
    "p = 0.1 #probability of rewiring\n",
    "G = nx.watts_strogatz_graph(N, kappa, p, seed=None)\n",
    "N = len(G)\n",
    "M = G.number_of_edges()\n",
    "\n",
    "# Visuaçizando o numero de nos, arestas e o grau medio:\n",
    "print('Number of nodes:', N)\n",
    "print('Number of edges:', M)\n",
    "print('Average degre:', 2*M/N)\n",
    "\n",
    "# Plotando o grafo:\n",
    "pos = nx.fruchterman_reingold_layout(G);\n",
    "plt.figure(figsize=(8,8));\n",
    "plt.axis(\"off\");\n",
    "nx.draw_networkx_nodes(G, pos, node_size=300, node_color=\"black\");\n",
    "nx.draw_networkx_edges(G, pos, alpha=0.500);\n",
    "nx.draw_networkx_labels(G, pos, font_color=\"white\");\n",
    "plt.show();"
   ]
  },
  {
   "cell_type": "code",
   "execution_count": null,
   "metadata": {},
   "outputs": [],
   "source": [
    "#definindo A probabilidade crítica de reduzir o \n",
    "#tamanho do maior componente para zero \n",
    "fc = fcritical(G)\n",
    "# armazena o tamanho do maior componente,Sf, \n",
    "#e vnf é a fração de nós removidos\n",
    "Sf, vnf = failures(G)\n",
    "\n",
    "plt.figure()\n",
    "plt.plot(vnf,Sf,'-or', label='Failures')\n",
    "plt.xlabel(\"f\", fontsize=20)\n",
    "plt.ylabel(\"S\", fontsize=20)\n",
    "plt.axvline(x=fc, color = 'g', label='fc failures')\n",
    "plt.legend()\n",
    "plt.grid(True)\n",
    "plt.show(); "
   ]
  },
  {
   "cell_type": "markdown",
   "metadata": {},
   "source": [
    "***Which network is the most robust against failures? (Each point must be an average over at least 10 simulations***"
   ]
  },
  {
   "cell_type": "code",
   "execution_count": null,
   "metadata": {},
   "outputs": [],
   "source": [
    "#Small-world networks\n",
    "Sw, vnw = failures(G)\n",
    "\n",
    "#Barabási-Albert scale free networks\n",
    "SBA, vnBA = failures(GBA)\n",
    "\n",
    "#Erdös-Rényi networks\n",
    "SER, vnER = failures(GER)\n",
    "\n",
    "plt.figure()\n",
    "plt.plot(vnER,SER,'-or', label='ER')\n",
    "plt.plot(vnBA,SBA,'-ob', label='BA')\n",
    "plt.plot(vnw,Sw,'-ob', label='SW')\n",
    "plt.legend()\n",
    "plt.xlabel(\"f\", fontsize=20)\n",
    "plt.ylabel(\"S\", fontsize=20)\n",
    "plt.grid(True)\n",
    "plt.show(); "
   ]
  },
  {
   "cell_type": "markdown",
   "metadata": {},
   "source": [
    "Simulate **attacks** in the following networks, obtaining the size of the largest component versus the fraction of removed nodes:"
   ]
  },
  {
   "cell_type": "markdown",
   "metadata": {},
   "source": [
    "**Erdös-Rényi networks**"
   ]
  },
  {
   "cell_type": "code",
   "execution_count": null,
   "metadata": {},
   "outputs": [],
   "source": [
    "#N = 500\n",
    "#av_degree = 2\n",
    "#p = av_degree/(N-1)\n",
    "GER = nx.gnp_random_graph(N, p, seed=None, directed=False)\n",
    "\n",
    "N = len(GER)\n",
    "M = GER.number_of_edges()\n",
    "print('Number of nodes:', N)\n",
    "print('Number of edges:', M)\n",
    "\n",
    "# Plotando o grafo:\n",
    "pos = nx.fruchterman_reingold_layout(GBA);\n",
    "plt.figure(figsize=(8,8));\n",
    "plt.axis(\"off\");\n",
    "nx.draw_networkx_nodes(GBA, pos, node_size=300, node_color=\"black\");\n",
    "nx.draw_networkx_edges(GBA, pos, alpha=0.500);\n",
    "nx.draw_networkx_labels(GBA, pos, font_color=\"white\");\n",
    "plt.show();"
   ]
  },
  {
   "cell_type": "code",
   "execution_count": null,
   "metadata": {},
   "outputs": [],
   "source": [
    "fc = fcritical(GER)\n",
    "\n",
    "Sf, vnf = attacks(GER)\n",
    "\n",
    "plt.figure()\n",
    "plt.plot(vnf,Sf,'-or', label='attacks')\n",
    "plt.xlabel(\"f\", fontsize=20)\n",
    "plt.ylabel(\"S\", fontsize=20)\n",
    "plt.axvline(x=fc, color = 'g', label='fc failures')\n",
    "plt.legend()\n",
    "plt.grid(True)\n",
    "plt.show(); "
   ]
  },
  {
   "cell_type": "markdown",
   "metadata": {},
   "source": [
    "**Barabási-Albert scale free networks**"
   ]
  },
  {
   "cell_type": "code",
   "execution_count": null,
   "metadata": {},
   "outputs": [],
   "source": [
    "## Criando o graph:\n",
    "GBA = nx.barabasi_albert_graph(N, m)\n",
    "N = len(GBA)\n",
    "M = GBA.number_of_edges()\n",
    "\n",
    "# Visuaçizando o numero de nos, arestas e o grau medio:\n",
    "print('Number of nodes:', N)\n",
    "print('Number of edges:', M)\n",
    "print('Average degre:', 2*M/N)\n",
    "\n",
    "# Plotando o grafo:\n",
    "pos = nx.fruchterman_reingold_layout(GBA);\n",
    "plt.figure(figsize=(8,8));\n",
    "plt.axis(\"off\");\n",
    "nx.draw_networkx_nodes(GBA, pos, node_size=300, node_color=\"black\");\n",
    "nx.draw_networkx_edges(GBA, pos, alpha=0.500);\n",
    "nx.draw_networkx_labels(GBA, pos, font_color=\"white\");\n",
    "plt.show();"
   ]
  },
  {
   "cell_type": "code",
   "execution_count": null,
   "metadata": {},
   "outputs": [],
   "source": [
    "#definindo A probabilidade crítica de reduzir o \n",
    "#tamanho do maior componente para zero \n",
    "fc = fcritical(GBA)\n",
    "# armazena o tamanho do maior componente,Sf, \n",
    "#e vnf é a fração de nós removidos\n",
    "Sf, vnf = attacks(GBA)\n",
    "\n",
    "plt.figure()\n",
    "plt.plot(vnf,Sf,'-or', label='attacks')\n",
    "plt.xlabel(\"f\", fontsize=20)\n",
    "plt.ylabel(\"S\", fontsize=20)\n",
    "plt.axvline(x=fc, color = 'g', label='fc failures')\n",
    "plt.legend()\n",
    "plt.grid(True)\n",
    "plt.show(); "
   ]
  },
  {
   "cell_type": "markdown",
   "metadata": {},
   "source": [
    "**Small-world networks for:**"
   ]
  },
  {
   "cell_type": "markdown",
   "metadata": {},
   "source": [
    "> p=0.001 "
   ]
  },
  {
   "cell_type": "code",
   "execution_count": null,
   "metadata": {},
   "outputs": [],
   "source": [
    "## Criando o graph:\n",
    "p = 0.001 #probability of rewiring\n",
    "G = nx.watts_strogatz_graph(N, kappa, p, seed=None)\n",
    "N = len(G)\n",
    "M = G.number_of_edges()\n",
    "\n",
    "# Visuaçizando o numero de nos, arestas e o grau medio:\n",
    "print('Number of nodes:', N)\n",
    "print('Number of edges:', M)\n",
    "print('Average degre:', 2*M/N)\n",
    "\n",
    "# Plotando o grafo:\n",
    "pos = nx.fruchterman_reingold_layout(G);\n",
    "plt.figure(figsize=(8,8));\n",
    "plt.axis(\"off\");\n",
    "nx.draw_networkx_nodes(G, pos, node_size=300, node_color=\"black\");\n",
    "nx.draw_networkx_edges(G, pos, alpha=0.500);\n",
    "nx.draw_networkx_labels(G, pos, font_color=\"white\");\n",
    "plt.show();"
   ]
  },
  {
   "cell_type": "code",
   "execution_count": null,
   "metadata": {},
   "outputs": [],
   "source": [
    "#definindo A probabilidade crítica de reduzir o \n",
    "#tamanho do maior componente para zero \n",
    "fc = fcritical(G)\n",
    "# armazena o tamanho do maior componente,Sf, \n",
    "#e vnf é a fração de nós removidos\n",
    "Sf, vnf = attacks(G)\n",
    "\n",
    "plt.figure()\n",
    "plt.plot(vnf,Sf,'-or', label='attacks')\n",
    "plt.xlabel(\"f\", fontsize=20)\n",
    "plt.ylabel(\"S\", fontsize=20)\n",
    "plt.axvline(x=fc, color = 'g', label='fc failures')\n",
    "plt.legend()\n",
    "plt.grid(True)\n",
    "plt.show(); "
   ]
  },
  {
   "cell_type": "markdown",
   "metadata": {},
   "source": [
    "> p=0.01"
   ]
  },
  {
   "cell_type": "code",
   "execution_count": null,
   "metadata": {},
   "outputs": [],
   "source": [
    "## Criando o graph:\n",
    "p = 0.01 #probability of rewiring\n",
    "G = nx.watts_strogatz_graph(N, kappa, p, seed=None)\n",
    "N = len(G)\n",
    "M = G.number_of_edges()\n",
    "\n",
    "# Visuaçizando o numero de nos, arestas e o grau medio:\n",
    "print('Number of nodes:', N)\n",
    "print('Number of edges:', M)\n",
    "print('Average degre:', 2*M/N)\n",
    "\n",
    "# Plotando o grafo:\n",
    "pos = nx.fruchterman_reingold_layout(G);\n",
    "plt.figure(figsize=(8,8));\n",
    "plt.axis(\"off\");\n",
    "nx.draw_networkx_nodes(G, pos, node_size=300, node_color=\"black\");\n",
    "nx.draw_networkx_edges(G, pos, alpha=0.500);\n",
    "nx.draw_networkx_labels(G, pos, font_color=\"white\");\n",
    "plt.show();"
   ]
  },
  {
   "cell_type": "code",
   "execution_count": null,
   "metadata": {},
   "outputs": [],
   "source": [
    "#definindo A probabilidade crítica de reduzir o \n",
    "#tamanho do maior componente para zero \n",
    "fc = fcritical(G)\n",
    "# armazena o tamanho do maior componente,Sf, \n",
    "#e vnf é a fração de nós removidos\n",
    "Sf, vnf = attacks(G)\n",
    "\n",
    "plt.figure()\n",
    "plt.plot(vnf,Sf,'-or', label='attacks')\n",
    "plt.xlabel(\"f\", fontsize=20)\n",
    "plt.ylabel(\"S\", fontsize=20)\n",
    "plt.axvline(x=fc, color = 'g', label='fc failures')\n",
    "plt.legend()\n",
    "plt.grid(True)\n",
    "plt.show(); "
   ]
  },
  {
   "cell_type": "markdown",
   "metadata": {},
   "source": [
    "> p=0.1."
   ]
  },
  {
   "cell_type": "code",
   "execution_count": null,
   "metadata": {},
   "outputs": [],
   "source": [
    "## Criando o graph:\n",
    "p = 0.1 #probability of rewiring\n",
    "G = nx.watts_strogatz_graph(N, kappa, p, seed=None)\n",
    "N = len(G)\n",
    "M = G.number_of_edges()\n",
    "\n",
    "# Visuaçizando o numero de nos, arestas e o grau medio:\n",
    "print('Number of nodes:', N)\n",
    "print('Number of edges:', M)\n",
    "print('Average degre:', 2*M/N)\n",
    "\n",
    "# Plotando o grafo:\n",
    "pos = nx.fruchterman_reingold_layout(G);\n",
    "plt.figure(figsize=(8,8));\n",
    "plt.axis(\"off\");\n",
    "nx.draw_networkx_nodes(G, pos, node_size=300, node_color=\"black\");\n",
    "nx.draw_networkx_edges(G, pos, alpha=0.500);\n",
    "nx.draw_networkx_labels(G, pos, font_color=\"white\");\n",
    "plt.show();"
   ]
  },
  {
   "cell_type": "code",
   "execution_count": 8,
   "metadata": {},
   "outputs": [
    {
     "ename": "TypeError",
     "evalue": "cannot unpack non-iterable NoneType object",
     "output_type": "error",
     "traceback": [
      "\u001b[0;31m---------------------------------------------------------------------------\u001b[0m",
      "\u001b[0;31mTypeError\u001b[0m                                 Traceback (most recent call last)",
      "\u001b[0;32m<ipython-input-8-99d14fd8b6d9>\u001b[0m in \u001b[0;36m<module>\u001b[0;34m\u001b[0m\n\u001b[1;32m      4\u001b[0m \u001b[0;31m# armazena o tamanho do maior componente,Sf,\u001b[0m\u001b[0;34m\u001b[0m\u001b[0;34m\u001b[0m\u001b[0;34m\u001b[0m\u001b[0m\n\u001b[1;32m      5\u001b[0m \u001b[0;31m#e vnf é a fração de nós removidos\u001b[0m\u001b[0;34m\u001b[0m\u001b[0;34m\u001b[0m\u001b[0;34m\u001b[0m\u001b[0m\n\u001b[0;32m----> 6\u001b[0;31m \u001b[0mSf\u001b[0m\u001b[0;34m,\u001b[0m \u001b[0mvnf\u001b[0m \u001b[0;34m=\u001b[0m \u001b[0mattacks\u001b[0m\u001b[0;34m(\u001b[0m\u001b[0mG\u001b[0m\u001b[0;34m)\u001b[0m\u001b[0;34m\u001b[0m\u001b[0;34m\u001b[0m\u001b[0m\n\u001b[0m\u001b[1;32m      7\u001b[0m \u001b[0;34m\u001b[0m\u001b[0m\n\u001b[1;32m      8\u001b[0m \u001b[0mplt\u001b[0m\u001b[0;34m.\u001b[0m\u001b[0mfigure\u001b[0m\u001b[0;34m(\u001b[0m\u001b[0;34m)\u001b[0m\u001b[0;34m\u001b[0m\u001b[0;34m\u001b[0m\u001b[0m\n",
      "\u001b[0;31mTypeError\u001b[0m: cannot unpack non-iterable NoneType object"
     ]
    }
   ],
   "source": [
    "#definindo A probabilidade crítica de reduzir o \n",
    "#tamanho do maior componente para zero \n",
    "fc = fcritical(G)\n",
    "# armazena o tamanho do maior componente,Sf, \n",
    "#e vnf é a fração de nós removidos\n",
    "Sf, vnf = attacks(G)\n",
    "\n",
    "plt.figure()\n",
    "plt.plot(vnf,Sf,'-or', label='attacks')\n",
    "plt.xlabel(\"f\", fontsize=20)\n",
    "plt.ylabel(\"S\", fontsize=20)\n",
    "plt.axvline(x=fc, color = 'g', label='fc failures')\n",
    "plt.legend()\n",
    "plt.grid(True)\n",
    "plt.show(); "
   ]
  },
  {
   "cell_type": "markdown",
   "metadata": {},
   "source": [
    "***Which network is the most robust against attacks? (Each point must be an average over at least ?10 simulations?***"
   ]
  },
  {
   "cell_type": "code",
   "execution_count": null,
   "metadata": {},
   "outputs": [],
   "source": [
    "#Small-world networks\n",
    "Sw, vnw = attacks(G)\n",
    "\n",
    "#Barabási-Albert scale free networks\n",
    "SBA, vnBA = attacks(GBA)\n",
    "\n",
    "#Erdös-Rényi networks\n",
    "SER, vnER = attacks(GER)\n",
    "\n",
    "plt.figure()\n",
    "plt.plot(vnER,SER,'-or', label='ER')\n",
    "plt.plot(vnBA,SBA,'-ob', label='BA')\n",
    "plt.plot(vnw,Sw,'-ob', label='SW')\n",
    "plt.legend()\n",
    "plt.xlabel(\"f\", fontsize=20)\n",
    "plt.ylabel(\"S\", fontsize=20)\n",
    "plt.grid(True)\n",
    "plt.show();  "
   ]
  },
  {
   "cell_type": "markdown",
   "metadata": {},
   "source": [
    "Compare\tthe\tprotein\tnetworks in\tterms of failures and attacks. Which\t\n",
    "species\tis the most robust?\t"
   ]
  },
  {
   "cell_type": "code",
   "execution_count": null,
   "metadata": {},
   "outputs": [],
   "source": [
    "human = nx.Graph()\n",
    "human = nx.read_weighted_edgelist('/home/clayton/Downloads/datas/maayan-vidal/out.maayan-vidal', nodetype=int, comments='%')\n",
    "human = human.to_undirected()\n",
    "human.remove_edges_from(nx.selfloop_edges(human))\n",
    "\n",
    "elegans07 = nx.Graph()\n",
    "elegans07 = nx.read_edgelist(\"/home/clayton/Downloads/datas/wi2007.txt\", nodetype=str)\n",
    "elegans07 = elegans07.to_undirected()\n",
    "elegans07 = nx.convert_node_labels_to_integers(elegans07, first_label=0)\n",
    "elegans07.remove_edges_from(nx.selfloop_edges(elegans07))\n",
    "\n",
    "df = pd.read_excel('/home/clayton/Downloads/datas/mosq.xls')\n",
    "mosquito = nx.from_pandas_edgelist(df, source='Gene1', target='Gene2', edge_attr=None)\n",
    "mosquito = mosquito.to_undirected()"
   ]
  },
  {
   "cell_type": "code",
   "execution_count": null,
   "metadata": {},
   "outputs": [],
   "source": [
    "# Human protein network\t\n",
    "Human = nx.Graph()\n",
    "Human = nx.read_edgelist(\"datas/maayan-vidal/out.txt\", nodetype=int, data=('weight',float),comments='%') # Read the network\n",
    "human.remove_edges_from(nx.selfloop_edges(human))\n",
    "N = len(Human)\n",
    "M = Human.number_of_edges()\n",
    "print('Number of nodes:', N)\n",
    "print('Number of edges:', M)\n",
    "\n",
    "fc = fcritical(Human)\n",
    "\n",
    "Sf, vnf = failuresHumanG)\n",
    "Sa, vna = attacks(Human)\n",
    "\n",
    "plt.figure()\n",
    "plt.plot(vnf,Sf,'-or', label='Failures')\n",
    "plt.plot(vna,Sa,'-ob', label='Attacks')\n",
    "plt.xlabel(\"f\", fontsize=20)\n",
    "plt.ylabel(\"S\", fontsize=20)\n",
    "plt.axvline(x=fc, color = 'g', label='fc failures')\n",
    "plt.legend()\n",
    "plt.grid(True)\n",
    "plt.show(); "
   ]
  },
  {
   "cell_type": "code",
   "execution_count": null,
   "metadata": {},
   "outputs": [],
   "source": [
    "# C.elegans protein network 2007\n",
    "prtn = nx.Graph()\n",
    "prtn = nx.read_edgelist(\"datas/wi2007.txt\", nodetype=int, data=('weight',float),comments='%') # Read the network\n",
    "prtn.remove_edges_from(nx.selfloop_edges(prtn))\n",
    "N = len(prtn)\n",
    "M = prtn.number_of_edges()\n",
    "print('Number of nodes:', N)\n",
    "print('Number of edges:', M)\n",
    "\n",
    "fc = fcritical(prtn)\n",
    "\n",
    "Sf, vnf = failures(prtn)\n",
    "Sa, vna = attacks(prtn)\n",
    "\n",
    "plt.figure()\n",
    "plt.plot(vnf,Sf,'-or', label='Failures')\n",
    "plt.plot(vna,Sa,'-ob', label='Attacks')\n",
    "plt.xlabel(\"f\", fontsize=20)\n",
    "plt.ylabel(\"S\", fontsize=20)\n",
    "plt.axvline(x=fc, color = 'g', label='fc failures')\n",
    "plt.legend()\n",
    "plt.grid(True)\n",
    "plt.show(); "
   ]
  },
  {
   "cell_type": "code",
   "execution_count": null,
   "metadata": {},
   "outputs": [],
   "source": [
    "# Mosquito interaction network (A. aegypti)\n",
    "Mosqt = nx.Graph()\n",
    "Mosqt = nx.read_edgelist(\"datas/maayan-vidal/out.txt\", nodetype=int, data=('weight',float),comments='%') # Read the network\n",
    "Mosqt.remove_edges_from(nx.selfloop_edges(Mosqt))\n",
    "N = len(Mosqt)\n",
    "M = Mosqt.number_of_edges()\n",
    "print('Number of nodes:', N)\n",
    "print('Number of edges:', M)\n",
    "\n",
    "fc = fcritical(Mosqt)\n",
    "\n",
    "Sf, vnf = failures(Mosqt)\n",
    "Sa, vna = attacks(Mosqt)\n",
    "\n",
    "plt.figure()\n",
    "plt.plot(vnf,Sf,'-or', label='Failures')\n",
    "plt.plot(vna,Sa,'-ob', label='Attacks')\n",
    "plt.xlabel(\"f\", fontsize=20)\n",
    "plt.ylabel(\"S\", fontsize=20)\n",
    "plt.axvline(x=fc, color = 'g', label='fc failures')\n",
    "plt.legend()\n",
    "plt.grid(True)\n",
    "plt.show(); "
   ]
  },
  {
   "cell_type": "markdown",
   "metadata": {},
   "source": [
    "The species tha is the most robust is: ... beacuse..."
   ]
  },
  {
   "cell_type": "markdown",
   "metadata": {},
   "source": [
    "# Pegar do Projeto 3 "
   ]
  },
  {
   "cell_type": "markdown",
   "metadata": {},
   "source": [
    "Consider the networks with community structure you generated in the \n",
    "previous project. Verify how\tcommunity organization influences the \n",
    "resilience of networks. That is, using the model by Santo Fortunato, \n",
    "generate networks with mu = 0.1, 0.3 and 0.5. For these networks \n",
    "construct the graph\tof the size of the largest component versus the \n",
    "fraction of removed\tnodes."
   ]
  },
  {
   "cell_type": "code",
   "execution_count": null,
   "metadata": {},
   "outputs": [],
   "source": []
  },
  {
   "cell_type": "markdown",
   "metadata": {},
   "source": [
    "***Bonus***\n",
    "\n",
    "Implement the model of complex networks with assortativity by\n",
    "Xulvi-Brunet-Sokolov and Verify how the assortativity influences the network\n",
    "resilience against failures and attacks. That is, construct the plots of the\n",
    "size of the largest component in terms of the fraction of removed nodes\n",
    "for assortativity values: -0.2, 0 and 0.2."
   ]
  },
  {
   "cell_type": "code",
   "execution_count": null,
   "metadata": {},
   "outputs": [],
   "source": []
  },
  {
   "cell_type": "markdown",
   "metadata": {},
   "source": [
    "# **Questão 2**"
   ]
  },
  {
   "cell_type": "markdown",
   "metadata": {},
   "source": [
    "Compare\tthe\tepidemic spreading in networks by simulating the reactive \n",
    "case in\tErdös-Rényi\tnetworks, Barabási-Albert scale-free networks, and \n",
    "small-world\tnetworks for p=0.001, p=0.01 and p=0.1.\tN =\t500\te <k>=\t8. \n",
    "Construct the curves of\tthe\tfraction of\tinfected nodes (SIS\tmodel) versus \n",
    "lambda = beta/mu, where\tmu = 1"
   ]
  },
  {
   "cell_type": "code",
   "execution_count": null,
   "metadata": {},
   "outputs": [],
   "source": [
    "#biblieotecas para  a resposta da questão:\n"
   ]
  },
  {
   "cell_type": "markdown",
   "metadata": {},
   "source": [
    "# **Questão 3**\n",
    "\n",
    "Construct the plot of the fraction of removed nodes (in the SIR dynamics)\n",
    "versus a centrality measure (degree, betweenness centrality, closeness\n",
    "centrality, eigenvector centrality, accessibility, k-core and\n",
    "communicability centrality). Verify which of these measures most\n",
    "influence the fraction of removed nodes."
   ]
  },
  {
   "cell_type": "code",
   "execution_count": null,
   "metadata": {},
   "outputs": [],
   "source": [
    "#biblieotecas para  a resposta da questão:\n",
    "\n",
    "def SIS(G, mu=1, Tmax = 20):    \n",
    "    def find(v, i): # function to find the positions of an element in a vector\n",
    "        l = []\n",
    "        pos = 0\n",
    "        for x in v:\n",
    "            if(x == i):\n",
    "                l.append(pos)\n",
    "            pos = pos + 1\n",
    "        return l\n",
    "\n",
    "    vlbda = list()\n",
    "    rhoI = list() # vector that stores the fraction of infected nodes according to the parameter lambda\n",
    "    for lbd in arange(0,1, 0.05):\n",
    "        beta = lbd*mu\n",
    "        #Reactive process: SIR dynamics\n",
    "        Tmax = 20 #maximum number of steps\n",
    "        av_rho = np.zeros(Tmax)\n",
    "        for seed_node in G.nodes():\n",
    "            vector_states = np.zeros(N) # vector that stores the states of the vertices\n",
    "            vector_states[seed_node] = 1 # vector that stores the states\n",
    "            ninfected = 1\n",
    "            infected = list() # Stores the number of infected nodes at each time step\n",
    "            vrho = list()\n",
    "            # Reactive model\n",
    "            for t in arange(0, Tmax): # Simulate until a maximum number of steps Tmax\n",
    "                infected = find(vector_states,1) # list of infected nodes\n",
    "                for i in infected: # try to infect the neighbors\n",
    "                    neigs = G.neighbors(i)\n",
    "                    for j in neigs:\n",
    "                        if np.random.rand() < beta:\n",
    "                            vector_states[j] = 1\n",
    "                for k in infected: # try to recover the infected nodes\n",
    "                    if np.random.rand() < mu:\n",
    "                        vector_states[k] = 0\n",
    "                ninfected = len(find(vector_states,1))\n",
    "                vrho.append(ninfected/N)\n",
    "            for x in arange(0, len(vrho)):\n",
    "                av_rho[x] = av_rho[x] + vrho[x]\n",
    "        av_rho = av_rho/len(G.nodes())\n",
    "        rhoI.append(mean(av_rho[arange(int(0.8*Tmax), Tmax)]))\n",
    "        vlbda.append(lbd)\n",
    "        print(lbd, mean(av_rho[arange(int(0.8*Tmax), Tmax)]))\n",
    "    return vlbda, rhoI\n",
    "\n"
   ]
  },
  {
   "cell_type": "markdown",
   "metadata": {},
   "source": [
    "**a)** Hamsterster friendships"
   ]
  },
  {
   "cell_type": "markdown",
   "metadata": {},
   "source": [
    "**b)** C. elegans neural network"
   ]
  },
  {
   "cell_type": "markdown",
   "metadata": {},
   "source": [
    "**c)** US airport network"
   ]
  },
  {
   "cell_type": "markdown",
   "metadata": {},
   "source": [
    "# **Bonus**\n",
    "\n",
    "***Verify how the assortativity influences the epidemic\n",
    "spreading in complex networks for the SIR model.***"
   ]
  },
  {
   "cell_type": "code",
   "execution_count": null,
   "metadata": {},
   "outputs": [],
   "source": []
  }
 ],
 "metadata": {
  "kernelspec": {
   "display_name": "Python 3",
   "language": "python",
   "name": "python3"
  },
  "language_info": {
   "codemirror_mode": {
    "name": "ipython",
    "version": 3
   },
   "file_extension": ".py",
   "mimetype": "text/x-python",
   "name": "python",
   "nbconvert_exporter": "python",
   "pygments_lexer": "ipython3",
   "version": "3.7.3"
  }
 },
 "nbformat": 4,
 "nbformat_minor": 2
}
