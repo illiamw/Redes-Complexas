{
 "cells": [
  {
   "cell_type": "code",
   "execution_count": 1,
   "metadata": {},
   "outputs": [],
   "source": [
    "# para rodar no colab\n",
    "#!pip uninstall networkx -y\n",
    "#!pip install networkx==2.3\n",
    "import networkx\n",
    "networkx.__version__\n",
    "\n",
    "#Adicionando biblioteca \"nx@networkx\" para gerenciamento e produção de graficos \n",
    "import networkx as nx\n",
    "import numpy as np\n",
    "import pandas as pd\n",
    "import seaborn as sns\n",
    "import matplotlib.cm as cm\n",
    "import math as mt\n",
    "import matplotlib.pyplot as plt\n",
    "import matplotlib.colors as colors\n",
    "import random\n",
    "import warnings\n",
    "import networkx.algorithms.community as nx_comm\n",
    "import os as os\n",
    "\n",
    "from numpy  import *\n",
    "from scipy.linalg import expm\n",
    "from scipy.stats import moment\n",
    "from scipy.stats import entropy\n",
    "from sklearn.decomposition import PCA\n",
    "from sklearn.preprocessing import StandardScaler\n",
    "from networkx.algorithms import community\n",
    "from networkx.algorithms.community import LFR_benchmark_graph\n",
    "from sklearn.metrics import normalized_mutual_info_score\n",
    "from networkx.algorithms.community import greedy_modularity_communities\n",
    "from networkx.algorithms.community import label_propagation_communities\n",
    "#from community import community_louvain\n",
    "#from google.colab import drive\n",
    "\n",
    "warnings.filterwarnings('ignore')\n",
    "np.random.seed(50)\n",
    "#drive.mount('/content/drive/')\n",
    "#definindo dimesões padrão para plot\n",
    "plt.rcParams['figure.figsize'] = (11,7)\n",
    "\n",
    "def plot_grafo(grafo):\n",
    "    plots = nx.spring_layout(grafo)\n",
    "    nx.draw(grafo, with_labels = True, node_size=1, font_size=10, pos = plots)\n",
    "    plt.show(True)"
   ]
  },
  {
   "cell_type": "markdown",
   "metadata": {},
   "source": [
    "# **Questão 1**"
   ]
  },
  {
   "cell_type": "markdown",
   "metadata": {},
   "source": [
    "***Bonus***\n",
    "\n",
    "Implement the model of complex networks with assortativity by\n",
    "Xulvi-Brunet-Sokolov and Verify how the assortativity influences the network\n",
    "resilience against failures and attacks. That is, construct the plots of the\n",
    "size of the largest component in terms of the fraction of removed nodes\n",
    "for assortativity values: -0.2, 0 and 0.2."
   ]
  },
  {
   "cell_type": "markdown",
   "metadata": {},
   "source": [
    "# **Questão 2**"
   ]
  },
  {
   "cell_type": "markdown",
   "metadata": {},
   "source": [
    "# **Questão 3**\n",
    "\n",
    "Construct the plot of the fraction of removed nodes (in the SIR dynamics)\n",
    "versus a centrality measure (degree, betweenness centrality, closeness\n",
    "centrality, eigenvector centrality, accessibility, k-core and\n",
    "communicability centrality). Verify which of these measures most\n",
    "influence the fraction of removed nodes."
   ]
  },
  {
   "cell_type": "markdown",
   "metadata": {},
   "source": [
    "**a)** Hamsterster friendships"
   ]
  },
  {
   "cell_type": "markdown",
   "metadata": {},
   "source": [
    "**b)** C. elegans neural network"
   ]
  },
  {
   "cell_type": "markdown",
   "metadata": {},
   "source": [
    "**c)** US airport network"
   ]
  },
  {
   "cell_type": "markdown",
   "metadata": {},
   "source": [
    "# **Bonus**\n",
    "\n",
    "***Verify how the assortativity influences the epidemic\n",
    "spreading in complex networks for the SIR model.***"
   ]
  },
  {
   "cell_type": "code",
   "execution_count": null,
   "metadata": {},
   "outputs": [],
   "source": []
  }
 ],
 "metadata": {
  "kernelspec": {
   "display_name": "Python 3",
   "language": "python",
   "name": "python3"
  },
  "language_info": {
   "codemirror_mode": {
    "name": "ipython",
    "version": 3
   },
   "file_extension": ".py",
   "mimetype": "text/x-python",
   "name": "python",
   "nbconvert_exporter": "python",
   "pygments_lexer": "ipython3",
   "version": "3.7.4"
  }
 },
 "nbformat": 4,
 "nbformat_minor": 2
}
